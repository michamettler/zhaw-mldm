{
 "cells": [
  {
   "cell_type": "markdown",
   "metadata": {
    "colab_type": "text",
    "id": "view-in-github"
   },
   "source": [
    "<a href=\"https://colab.research.google.com/github/michamettler/zhaw-mldm/blob/main/L12_Clustering_Assignment.ipynb\" target=\"_parent\"><img src=\"https://colab.research.google.com/assets/colab-badge.svg\" alt=\"Open In Colab\"/></a>"
   ]
  },
  {
   "cell_type": "code",
   "execution_count": 1,
   "metadata": {
    "id": "8bPV9aEwTKC8"
   },
   "outputs": [],
   "source": [
    "import numpy as np\n",
    "from matplotlib import pyplot as plt"
   ]
  },
  {
   "cell_type": "code",
   "execution_count": 2,
   "metadata": {
    "id": "jFHJbjkfeepf"
   },
   "outputs": [],
   "source": [
    "RANDOM_SEED = 0x0"
   ]
  },
  {
   "cell_type": "markdown",
   "metadata": {
    "id": "PeKVmElId1GV"
   },
   "source": [
    "# TASK 1 (4 Points): K-Means using scikit-learn"
   ]
  },
  {
   "cell_type": "markdown",
   "metadata": {
    "id": "mxVgesOod7-p"
   },
   "source": [
    "First we will generate some data. The variable `X` will contain the data used in this section."
   ]
  },
  {
   "cell_type": "code",
   "execution_count": 3,
   "metadata": {
    "id": "8x-oK1d5eDS9"
   },
   "outputs": [],
   "source": [
    "from sklearn.datasets import make_blobs"
   ]
  },
  {
   "cell_type": "code",
   "execution_count": 4,
   "metadata": {
    "id": "nVE6ffy8eM_L"
   },
   "outputs": [
    {
     "data": {
      "text/plain": [
       "<matplotlib.collections.PathCollection at 0x25edeb667a0>"
      ]
     },
     "execution_count": 4,
     "metadata": {},
     "output_type": "execute_result"
    },
    {
     "data": {
      "image/png": "[encoded data removed]",
      "text/plain": [
       "<Figure size 640x480 with 1 Axes>"
      ]
     },
     "metadata": {},
     "output_type": "display_data"
    }
   ],
   "source": [
    "X, _ = make_blobs(\n",
    "    n_samples=300,\n",
    "    centers=4,\n",
    "    cluster_std=.6,\n",
    "    random_state=RANDOM_SEED,\n",
    ")\n",
    "\n",
    "plt.scatter(X[:, 0], X[:, 1], s=50)"
   ]
  },
  {
   "cell_type": "markdown",
   "metadata": {
    "id": "zCIJgMccfP62"
   },
   "source": [
    "### Task 1a\n",
    "\n",
    "Cluster the above data using the K-Means implementation provided by scikit-learn.\n",
    "Refer to the official documentation: <https://scikit-learn.org/stable/modules/generated/sklearn.cluster.KMeans.html>\n",
    "\n",
    "* create an instance of the class `sklearn.cluster.KMeans`\n",
    "* choose a suitable value for the `n_clusters` parameter\n",
    "* call the `.fit` method to compute the clustering\n",
    "* call the `.predict` method to get cluster labels for each data point"
   ]
  },
  {
   "cell_type": "code",
   "execution_count": 5,
   "metadata": {
    "id": "2GhgP1ZSjdcW"
   },
   "outputs": [],
   "source": [
    "from sklearn.cluster import KMeans"
   ]
  },
  {
   "cell_type": "code",
   "execution_count": null,
   "metadata": {
    "id": "VU-xKgpsgfz1"
   },
   "outputs": [],
   "source": [
    "## TODO Code here...."
   ]
  },
  {
   "cell_type": "markdown",
   "metadata": {
    "id": "21Kp9bM8jTbv"
   },
   "source": [
    "### Task 1b\n",
    "\n",
    "Try different numbers of clusters, compute the average silhouette scores using\n",
    "`sklearn.metrics.silhouette_score` and plot the silhouette plot for the different values of K. Refer to the documentation: <https://scikit-learn.org/stable/modules/generated/sklearn.metrics.silhouette_score.html#sklearn.metrics.silhouette_score>\n",
    "\n"
   ]
  },
  {
   "cell_type": "code",
   "execution_count": null,
   "metadata": {
    "id": "s5zTrdAIjrnA"
   },
   "outputs": [],
   "source": [
    "from sklearn.metrics import silhouette_score"
   ]
  },
  {
   "cell_type": "code",
   "execution_count": null,
   "metadata": {
    "id": "sjDFRRvJjwZm"
   },
   "outputs": [],
   "source": [
    "## TODO Code here...."
   ]
  },
  {
   "cell_type": "markdown",
   "metadata": {
    "id": "CVvk9eAsyueW"
   },
   "source": [
    "### Task 1c\n",
    "\n",
    "Select the number of clusters K using the silhouette method. Visualize the resulting clustering for in a scatter plot by using different colors for each cluster and also depicting the cluster centroids."
   ]
  },
  {
   "cell_type": "code",
   "execution_count": null,
   "metadata": {
    "id": "Ojo_54y4y9KV"
   },
   "outputs": [],
   "source": [
    "## TODO Code here...."
   ]
  },
  {
   "cell_type": "markdown",
   "metadata": {
    "id": "YGMDRdH1fp2P"
   },
   "source": [
    "## 📢 **HAND-IN** 📢:\n",
    "1. The plot of the average silhouette scores for different values of K\n",
    "2. The optimal K you selected based on the plots of the silhouette scores\n",
    "3. The scatter plot of the clustering results depicting also the centroids for the optimal K"
   ]
  },
  {
   "cell_type": "markdown",
   "metadata": {
    "id": "7wCCr_SqjGb3"
   },
   "source": [
    "# TASK 2: DBSCAN\n",
    "\n",
    "First, let's setup the data used in this section. We will redefine the variable `X` containing the data to be clustered."
   ]
  },
  {
   "cell_type": "code",
   "execution_count": null,
   "metadata": {
    "id": "kAkWhmjYlwJc"
   },
   "outputs": [],
   "source": [
    "from sklearn.datasets import make_moons"
   ]
  },
  {
   "cell_type": "code",
   "execution_count": null,
   "metadata": {
    "id": "JeZgx1Rnl1iS"
   },
   "outputs": [],
   "source": [
    "X, _ = make_moons(\n",
    "    n_samples=200,\n",
    "    noise=.05,\n",
    "    random_state=RANDOM_SEED,\n",
    ")"
   ]
  },
  {
   "cell_type": "code",
   "execution_count": null,
   "metadata": {
    "id": "MmdUwMF8l9Vg"
   },
   "outputs": [],
   "source": [
    "plt.scatter(X[:, 0], X[:, 1], s=50)"
   ]
  },
  {
   "cell_type": "markdown",
   "metadata": {
    "id": "AtivNvrGoF9v"
   },
   "source": [
    "### Task 2a\n",
    "\n",
    "* cluster the new data `X` using `KMeans`\n",
    "* set `n_clusters=2`\n",
    "* visualize and analyse the resulting clustering\n",
    "* What do you think of the result?"
   ]
  },
  {
   "cell_type": "code",
   "execution_count": null,
   "metadata": {
    "id": "Bf5mqNILoXVz"
   },
   "outputs": [],
   "source": [
    "## TODO Code here...."
   ]
  },
  {
   "cell_type": "markdown",
   "metadata": {
    "id": "yBr9_643pOMG"
   },
   "source": [
    "### Task 2b\n",
    "\n",
    "Let's use `sklearn.cluster.DBSCAN` instead. Refer to the documentation: <https://scikit-learn.org/stable/modules/generated/sklearn.cluster.DBSCAN.html>\n",
    "\n",
    "* cluster the data using `DBSCAN`\n",
    "* try different values for `eps` and `min_samples` until you manage to obtain good clustering of the two half-moons"
   ]
  },
  {
   "cell_type": "code",
   "execution_count": null,
   "metadata": {
    "id": "42OURwFappgN"
   },
   "outputs": [],
   "source": [
    "from sklearn.cluster import DBSCAN"
   ]
  },
  {
   "cell_type": "code",
   "execution_count": null,
   "metadata": {
    "id": "mNVoC5AbpuHc"
   },
   "outputs": [],
   "source": [
    "## TODO Code here...."
   ]
  },
  {
   "cell_type": "markdown",
   "metadata": {
    "id": "jLTk8tewf_Ec"
   },
   "source": [
    "## 📢 **HAND-IN** 📢: No submission needed for this task."
   ]
  },
  {
   "cell_type": "markdown",
   "metadata": {
    "id": "i5-u-CYJrOmE"
   },
   "source": [
    "# Task 3 (6 Points): Image Compression - Color Clustering in Images\n",
    "\n",
    "K-Means can be used for image compression. This task focuses on appling this compression technique to an image.\n",
    "\n",
    "We provide some useful helper functions below. Read the comments in the code carefully, but do not worry if you don't understand every line.\n"
   ]
  },
  {
   "cell_type": "code",
   "execution_count": null,
   "metadata": {
    "id": "eR8NMgX9VN8N"
   },
   "outputs": [],
   "source": [
    "from PIL import Image\n",
    "import requests\n",
    "from io import BytesIO"
   ]
  },
  {
   "cell_type": "code",
   "execution_count": null,
   "metadata": {
    "id": "HF-AwKGUXGTA"
   },
   "outputs": [],
   "source": [
    "def download_img(url: str) -> Image:\n",
    "  \"\"\"\n",
    "  This function fetches an image from the internet and returns a PIL.Image object\n",
    "  see: https://pillow.readthedocs.io/en/stable/reference/Image.html\n",
    "\n",
    "  we tested it mainly on images from wikimedia\n",
    "  \"\"\"\n",
    "\n",
    "  # have to set a fake user-agent so we dont get blocked by wikimedia\n",
    "  headers = {'User-Agent': 'Mozilla/5.0 (Windows NT 10.0; Win64; x64) AppleWebKit/537.36 (KHTML, like Gecko) Chrome/102.0.0.0 Safari/537.36'}\n",
    "  r = requests.get(url, headers=headers)\n",
    "  if r.status_code != 200:\n",
    "    # if you hit this exception, consider using another image\n",
    "    raise Exception(f\"download failed:\\n{url}\")\n",
    "\n",
    "  return Image.open(BytesIO(r.content)).convert(\"RGB\")\n",
    "\n",
    "def img2arr(img: Image) -> np.array:\n",
    "  \"\"\"\n",
    "  convert a PIL.Image object to a numpy array\n",
    "  the resulting array has 3 dimensions [height, width, 3]\n",
    "  the last dimension contains rgb values\n",
    "\n",
    "  the rgb values are normalized to be between 0. and 1.\n",
    "  \"\"\"\n",
    "  return np.asarray(img) / 255\n",
    "\n",
    "def arr2img(arr: np.array) -> Image:\n",
    "  \"\"\"\n",
    "  convert a numpy array back into a PIL.Image object\n",
    "  we expect the rgb values of the array to be between 0. and 1.\n",
    "  \"\"\"\n",
    "  return Image.fromarray((arr * 255).astype(np.int8), mode=\"RGB\")"
   ]
  },
  {
   "cell_type": "code",
   "execution_count": null,
   "metadata": {
    "id": "tt83N847XmEx"
   },
   "outputs": [],
   "source": [
    "img_url = \"https://upload.wikimedia.org/wikipedia/commons/d/d7/RGB_24bits_palette_sample_image.jpg\"\n",
    "\n",
    "img = download_img(img_url)\n",
    "\n",
    "# you can visualize a PIL.Image object directly in jupyter using `display`\n",
    "display(img)\n",
    "\n",
    "img_arr = img2arr(img)\n",
    "\n",
    "# visualize the np.array version of the same image\n",
    "plt.imshow(img_arr)"
   ]
  },
  {
   "cell_type": "code",
   "execution_count": null,
   "metadata": {
    "id": "yIfA2ERaZXzD"
   },
   "outputs": [],
   "source": [
    "from typing import Optional\n",
    "\n",
    "def rg_chromaticity(color_arr: np.array) ->  np.array:\n",
    "  \"\"\"\n",
    "  helper function\n",
    "  \"\"\"\n",
    "  sums = np.sum(color_arr, axis=1, keepdims=True)\n",
    "  normed = np.divide(color_arr, sums, where=sums > 0.)\n",
    "  return normed\n",
    "\n",
    "def rg_chroma_plot(img_arr: np.array, centers: Optional[np.array] = None):\n",
    "  \"\"\"\n",
    "  plot an image in rg-chromaticity space\n",
    "  this is a 2D representation of 3D rgb data\n",
    "  refer to wikipedia for details: https://en.wikipedia.org/wiki/Rg_chromaticity\n",
    "\n",
    "  Note: the resulting plot will not accurately reflect the original euclidean distances\n",
    "\n",
    "  inputs:\n",
    "  img_arr: a numpy array with 3 dimensions [height, width, 3] representing an image\n",
    "  centers: a numpy array with 2 dimensions [n_centers, 3] representing the cluster centers\n",
    "  \"\"\"\n",
    "  colors = np.copy(img_arr).reshape((-1, 3))\n",
    "  colors = np.unique(colors, axis=0)\n",
    "  img_rg = rg_chromaticity(colors)\n",
    "  plt.scatter(img_rg[:, 0], img_rg[:, 1], c=[tuple(colors[i]) for i in range(colors.shape[0])], s=.1)\n",
    "\n",
    "  if centers is not None:\n",
    "    crg = rg_chromaticity(centers)\n",
    "    plt.scatter(crg[:, 0], crg[:, 1], c=\"black\", marker=\"x\", s=25.)\n",
    "\n",
    "  plt.xlabel(\"red\")\n",
    "  plt.ylabel(\"green\")\n",
    "  plt.show()\n"
   ]
  },
  {
   "cell_type": "code",
   "execution_count": null,
   "metadata": {
    "id": "jNqOfnfLvizg"
   },
   "outputs": [],
   "source": [
    "rg_chroma_plot(img_arr)"
   ]
  },
  {
   "cell_type": "code",
   "execution_count": null,
   "metadata": {
    "id": "FnAI7vWQHlop"
   },
   "outputs": [],
   "source": [
    "from sklearn.metrics import pairwise_distances_argmin\n",
    "\n",
    "def replace_nearest_color(img_arr: np.array, centers: np.array):\n",
    "  \"\"\"\n",
    "  replace each pixel color in `img_arr` by the closest color in `centers`\n",
    "\n",
    "  input:\n",
    "  img_arr: a numpy array with 3 dimensions [height, width, 3] representing an image\n",
    "  centers: a numpy array with 2 dimensions [n_centers, 3] representing the cluster centers\n",
    "  \"\"\"\n",
    "  colors = img_arr.reshape((-1, 3))\n",
    "  labels = pairwise_distances_argmin(colors, centers)\n",
    "  compressed = labels.reshape(img_arr.shape[:2])\n",
    "  replaced = centers[compressed]\n",
    "  return replaced\n"
   ]
  },
  {
   "cell_type": "code",
   "execution_count": null,
   "metadata": {
    "id": "LyNurmBNLvR_"
   },
   "outputs": [],
   "source": [
    "# generate 8 random colors for illustration\n",
    "random_centers = np.random.default_rng(RANDOM_SEED).random(size=(8, 3))\n",
    "\n",
    "# plot the random centers on top of the colors of the image\n",
    "rg_chroma_plot(img_arr, random_centers)\n",
    "\n",
    "# replace original colors by their nearest neighbors out of the candidate centers\n",
    "replaced = replace_nearest_color(img_arr, random_centers)\n",
    "\n",
    "# convert to PIL.Image and visualize\n",
    "display(arr2img(replaced))"
   ]
  },
  {
   "cell_type": "markdown",
   "metadata": {
    "id": "mNU8srsXxN9a"
   },
   "source": [
    "### Task 3 (continued)\n",
    "\n",
    "* Use an image from [wikimedia](https://commons.wikimedia.org/wiki/Main_Page) to compress. Make sure that it is not too big, e.g. less than 1000px per side\n",
    "\n",
    "* You can also use the same image we used in the example above\n",
    "\n",
    "* download the image and convert it to a numpy array using the functions `download_img` and `img2arr` we defined above  \n",
    "\n",
    "* Cluster the colors in the image using `KMeans`\n",
    "\n",
    "* Choose the appropriate hyperparameters and verify them (e.g. using `silhouette_score` or the elbow method)\n",
    "\n",
    "* Visualize your final cluster centers using `rg_chroma_plot` (see example usage above)\n",
    "\n",
    "* Replace the colors of the original image by their nearest center using `replace_nearest_color` and display the result (see example usage above)\n",
    "\n",
    "### Tips\n",
    "\n",
    "* The images have 3 dimensions but the clustering algorithms expect 2. You can use [np.reshape](https://numpy.org/doc/stable/reference/generated/numpy.reshape.html) to obtain the dimension you need.\n",
    "* To download the images you can right-click and save them to your computer."
   ]
  },
  {
   "cell_type": "code",
   "execution_count": null,
   "metadata": {
    "id": "PbnDZsc3eU7g"
   },
   "outputs": [],
   "source": [
    "## TODO Code here....\n"
   ]
  },
  {
   "cell_type": "markdown",
   "metadata": {
    "id": "Ddxi0__NgPzi"
   },
   "source": [
    "## 📢 **HAND-IN** 📢:\n",
    "\n",
    "* The original image you used for this task if different than the example image\n",
    "\n",
    "* The final (compressed) image showing the replaced colors\n",
    "\n",
    "* Your code for computing the clustering\n",
    "\n",
    "* Short (2-3 sentences) description on how you verified the clustering and selected the hyperparameters\n"
   ]
  }
 ],
 "metadata": {
  "colab": {
   "include_colab_link": true,
   "private_outputs": true,
   "provenance": []
  },
  "kernelspec": {
   "display_name": "ComputerScience",
   "language": "python",
   "name": "python3"
  },
  "language_info": {
   "codemirror_mode": {
    "name": "ipython",
    "version": 3
   },
   "file_extension": ".py",
   "mimetype": "text/x-python",
   "name": "python",
   "nbconvert_exporter": "python",
   "pygments_lexer": "ipython3",
   "version": "3.10.13"
  }
 },
 "nbformat": 4,
 "nbformat_minor": 0
}
